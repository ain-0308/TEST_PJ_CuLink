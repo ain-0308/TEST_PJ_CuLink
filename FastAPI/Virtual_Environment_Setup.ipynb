{
 "cells": [
  {
   "cell_type": "markdown",
   "metadata": {},
   "source": [
    "# 깃에서 프로젝트 다운받은 후 FastAPI 환경설정하기"
   ]
  },
  {
   "cell_type": "markdown",
   "metadata": {},
   "source": [
    "### ✨ 가상환경을 만든 후 서버 실행하기"
   ]
  },
  {
   "cell_type": "markdown",
   "metadata": {},
   "source": [
    "#### 가상환경 생성하기\n",
    "1. 가상환경 생성 명령어 입력 👉🏻 python -m venv 가상환경이름\n",
    "    - 가상환경의 이름 : 다른 이름 설정 가능\n",
    "2. 가상환경 활성화 명령어 입력 👉🏻 .\\가상환경이름\\Scripts\\Activate.ps1"
   ]
  },
  {
   "cell_type": "markdown",
   "metadata": {},
   "source": [
    "#### 가상환경 활성화 확인하기\n",
    "- (가상환경이름) D:\\Web_Study\\Cu_Link_241019_1406\\FastAPI>\n",
    "\n",
    "- ⭐👆🏻 디렉토리 경로 앞에 👉🏻 (가상환경이름) 표시가 있음"
   ]
  },
  {
   "cell_type": "markdown",
   "metadata": {},
   "source": [
    "#### 기존 설치된 라이브러리 먼저 설치하기 \n",
    "1. 터미널 디렉토리 위치를 FastAPI로 이동한다\n",
    "\n",
    "2. 👇🏻 이전에 설치한 라이브러리를 다시 설치하는 명령어를 입력한다\n",
    "- pip install -r requirements.txt\n",
    "    - (npm i 와 같은 명령어임.)\n",
    "\n",
    "3. 👇🏻 FastAPI에서 설치한 라이브러리를 저장하는 명령어 추후 깃 푸쉬하기전 필요할때 저장 후 저장한 requirements.txt 파일도 같이 푸쉬해주면 좋음\n",
    "- pip freeze > requirements.txt\n"
   ]
  },
  {
   "cell_type": "markdown",
   "metadata": {},
   "source": [
    "#### ⭐ FastAPI 서버 실행 명령어\n",
    "- uvicorn main:app --reload --host 0.0.0.0 --port 8000\n",
    "    - -host: 다른 주소 설정 가능\n",
    "    - -port: 포트 번호 변경도 가능"
   ]
  },
  {
   "cell_type": "markdown",
   "metadata": {},
   "source": [
    "#### 가상환경 비활성화 명령어\n",
    "- deactivate                                    "
   ]
  }
 ],
 "metadata": {
  "language_info": {
   "name": "python"
  }
 },
 "nbformat": 4,
 "nbformat_minor": 2
}
